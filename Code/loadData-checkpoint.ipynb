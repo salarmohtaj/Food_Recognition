{
 "cells": [
  {
   "cell_type": "code",
   "execution_count": 3,
   "metadata": {
    "collapsed": true
   },
   "outputs": [],
   "source": [
    "import os\n",
    "from torch.utils.data import DataLoader, Dataset\n",
    "import torchvision.transforms as T\n",
    "import torch\n",
    "import torch.nn as nn\n",
    "from torchvision.utils import make_grid\n",
    "from torchvision.utils import save_image\n",
    "from IPython.display import Image\n",
    "import matplotlib.pyplot as plt\n",
    "import numpy as np\n",
    "import random\n",
    "import glob\n",
    "import PIL\n",
    "%matplotlib inline"
   ]
  },
  {
   "cell_type": "code",
   "execution_count": 4,
   "metadata": {
    "pycharm": {
     "name": "#%%\n"
    }
   },
   "outputs": [
    {
     "name": "stdout",
     "output_type": "stream",
     "text": [
      "{}\n"
     ]
    }
   ],
   "source": [
    "#Load data as image\n",
    "# dataset = []\n",
    "# image_size = 64\n",
    "data_directory = \"Datasets\"\n",
    "dataset_path = 'dataset100/UECFOOD100/*/*.jpg'\n",
    "\n",
    "dataset = glob.glob(os.path.join(data_directory,dataset_path))\n",
    "\n",
    "\n",
    "#Create a dict for saving numpy arrays of images\n",
    "data_dict = {}\n",
    "\n",
    "#conver image to .npy\n",
    "for index, img in enumerate(dataset):\n",
    "    raw_img = PIL.Image.open(img)\n",
    "    img_array = np.asarray(raw_img)\n",
    "    data_dict[img] = img_array\n",
    "print(data_dict)\n",
    "print(img_array)\n",
    "    \n",
    "\n",
    "\n",
    "\n",
    "# for img in dataset:\n",
    "\n",
    "    # pass\n",
    "# X_train = np.load(DATA_DIR)\n",
    "# print(f\"Shape of training data: {X_train.shape}\")\n",
    "# print(f\"Data type: {type(X_train)}\")"
   ]
  },
  {
   "cell_type": "code",
   "execution_count": 4,
   "metadata": {},
   "outputs": [],
   "source": []
  }
 ],
 "metadata": {
  "kernelspec": {
   "display_name": "Python 3 (ipykernel)",
   "language": "python",
   "name": "python3"
  },
  "language_info": {
   "codemirror_mode": {
    "name": "ipython",
    "version": 3
   },
   "file_extension": ".py",
   "mimetype": "text/x-python",
   "name": "python",
   "nbconvert_exporter": "python",
   "pygments_lexer": "ipython3",
   "version": "3.9.7"
  }
 },
 "nbformat": 4,
 "nbformat_minor": 1
}